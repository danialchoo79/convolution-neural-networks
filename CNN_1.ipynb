{
  "nbformat": 4,
  "nbformat_minor": 0,
  "metadata": {
    "colab": {
      "provenance": []
    },
    "kernelspec": {
      "name": "python3",
      "display_name": "Python 3"
    },
    "language_info": {
      "name": "python"
    },
    "gpuClass": "standard"
  },
  "cells": [
    {
      "cell_type": "markdown",
      "source": [
        "## **CNN/ConvNet**"
      ],
      "metadata": {
        "id": "XR4HHTqEr0ur"
      }
    },
    {
      "cell_type": "markdown",
      "source": [
        "## The MNIST Dataset"
      ],
      "metadata": {
        "id": "Jz7479N8sO6k"
      }
    },
    {
      "cell_type": "markdown",
      "source": [
        "70,000 images, 60,000 training images and 10,000 testing images.\n",
        "\n",
        "Each image has resolution of 28x28, and numerical pixel values are in grey scale.\n",
        "\n",
        "Each image is represented by a 28x28 matrix with each element of the matrix an integer between 0 and 255.\n",
        "\n",
        "The label of each image is te intended digit of th handwritten image between 0 and 9. "
      ],
      "metadata": {
        "id": "nkInSuXCsR1M"
      }
    },
    {
      "cell_type": "code",
      "source": [
        "%tensorflow_version 2.x\n",
        "import tensorflow\n",
        "tensorflow.__version__"
      ],
      "metadata": {
        "colab": {
          "base_uri": "https://localhost:8080/",
          "height": 53
        },
        "id": "0wxwpe4Qr5gj",
        "outputId": "3d8328a4-2bfa-4ec1-aff5-fb28bdfe3c41"
      },
      "execution_count": 2,
      "outputs": [
        {
          "output_type": "stream",
          "name": "stdout",
          "text": [
            "Colab only includes TensorFlow 2.x; %tensorflow_version has no effect.\n"
          ]
        },
        {
          "output_type": "execute_result",
          "data": {
            "text/plain": [
              "'2.9.2'"
            ],
            "application/vnd.google.colaboratory.intrinsic+json": {
              "type": "string"
            }
          },
          "metadata": {},
          "execution_count": 2
        }
      ]
    },
    {
      "cell_type": "code",
      "source": [
        "import numpy as np\n",
        "import pandas as pd\n",
        "import matplotlib.pyplot as plt\n",
        "%matplotlib inline\n",
        "from keras.models import Sequential\n",
        "import tensorflow\n",
        "from tensorflow.keras.optimizers import Adam\n",
        "from tensorflow.keras.utils import to_categorical, plot_model\n",
        "from keras import backend as K\n",
        "from keras.layers import Dense\n",
        "from keras.layers.convolutional import Conv2D, MaxPooling2D\n",
        "# from keras.mdels import Sequential\n",
        "from keras.layers import Activation, Flatten\n",
        "\n",
        "import random\n",
        "random.seed(0)\n",
        "\n",
        "#Ignore the warnings\n",
        "import warnings\n",
        "warnings.filterwarnings('ignore')"
      ],
      "metadata": {
        "id": "lsErhB2C0EsI"
      },
      "execution_count": 3,
      "outputs": []
    },
    {
      "cell_type": "code",
      "source": [
        "from tensorflow.keras.datasets import mnist\n",
        "\n",
        "#the data, shuffled an spli between train and test sets\n",
        "(X_train, y_train), (X_test, y_test) = mnist.load_data()"
      ],
      "metadata": {
        "colab": {
          "base_uri": "https://localhost:8080/"
        },
        "id": "PiyBkJJ91GUB",
        "outputId": "5a35cf5a-a4e3-4c29-c9e6-4ee21f63ad29"
      },
      "execution_count": 4,
      "outputs": [
        {
          "output_type": "stream",
          "name": "stdout",
          "text": [
            "Downloading data from https://storage.googleapis.com/tensorflow/tf-keras-datasets/mnist.npz\n",
            "11490434/11490434 [==============================] - 0s 0us/step\n"
          ]
        }
      ]
    },
    {
      "cell_type": "markdown",
      "source": [
        "X_train and X_test contain greyscale RGB codes (from 0 nto 255) while y_train and y_test contains labels from 0 to 9"
      ],
      "metadata": {
        "id": "n8QZNZu41ldA"
      }
    },
    {
      "cell_type": "code",
      "source": [
        "import matplotlib.pyplot as plt\n",
        "%matplotlib inline\n",
        "print('Label: {}'.format(y_train[10000]))\n",
        "plt.imshow(X_train[10000], cmap='gray')"
      ],
      "metadata": {
        "colab": {
          "base_uri": "https://localhost:8080/",
          "height": 301
        },
        "id": "_4dp7RGV1gIJ",
        "outputId": "48c93681-2e79-487b-b3ca-02dd499f5a97"
      },
      "execution_count": 5,
      "outputs": [
        {
          "output_type": "stream",
          "name": "stdout",
          "text": [
            "Label: 3\n"
          ]
        },
        {
          "output_type": "execute_result",
          "data": {
            "text/plain": [
              "<matplotlib.image.AxesImage at 0x7f8af8d142b0>"
            ]
          },
          "metadata": {},
          "execution_count": 5
        },
        {
          "output_type": "display_data",
          "data": {
            "text/plain": [
              "<Figure size 432x288 with 1 Axes>"
            ],
            "image/png": "[encoded data removed]"
          },
          "metadata": {
            "needs_background": "light"
          }
        }
      ]
    },
    {
      "cell_type": "markdown",
      "source": [
        "## **Data Preprocessing** "
      ],
      "metadata": {
        "id": "NYdEKYak2QMA"
      }
    },
    {
      "cell_type": "markdown",
      "source": [
        "Print shape of data"
      ],
      "metadata": {
        "id": "q4XUji7L2WXY"
      }
    },
    {
      "cell_type": "code",
      "source": [
        "print(X_train.shape)\n",
        "print(y_train.shape)\n",
        "print(X_test.shape)\n",
        "print(y_test.shape)"
      ],
      "metadata": {
        "colab": {
          "base_uri": "https://localhost:8080/"
        },
        "id": "l8zNSC8y2NPp",
        "outputId": "07bb7afc-81ce-44ec-88b5-8e5e4b8b23e0"
      },
      "execution_count": 6,
      "outputs": [
        {
          "output_type": "stream",
          "name": "stdout",
          "text": [
            "(60000, 28, 28)\n",
            "(60000,)\n",
            "(10000, 28, 28)\n",
            "(10000,)\n"
          ]
        }
      ]
    },
    {
      "cell_type": "markdown",
      "source": [
        "## **Reshape train and sets into compatible shapes**\n",
        "\n",
        "1. Sequential model in tensorflow.keras expects data to be in the format (n_e,n_h,n_w,n_c)\n",
        "2. n_e= number of examples, n_h= height, n_w= width, n_c= number of channels\n",
        "3. Do not reshape labels"
      ],
      "metadata": {
        "id": "EfZQyhgm2-9K"
      }
    },
    {
      "cell_type": "code",
      "source": [
        "X_train.shape[0]"
      ],
      "metadata": {
        "colab": {
          "base_uri": "https://localhost:8080/"
        },
        "id": "bWUyBgDf2OIY",
        "outputId": "8a85331a-6632-41df-f03f-508cb3545552"
      },
      "execution_count": 7,
      "outputs": [
        {
          "output_type": "execute_result",
          "data": {
            "text/plain": [
              "60000"
            ]
          },
          "metadata": {},
          "execution_count": 7
        }
      ]
    },
    {
      "cell_type": "code",
      "source": [
        "X_train = X_train.reshape(X_train.shape[0], 28, 28, 1)\n",
        "X_test = X_test.reshape(X_test.shape[0], 28, 28, 1)"
      ],
      "metadata": {
        "id": "OsPNzgid3kzC"
      },
      "execution_count": 8,
      "outputs": []
    },
    {
      "cell_type": "code",
      "source": [
        "X_train.shape"
      ],
      "metadata": {
        "colab": {
          "base_uri": "https://localhost:8080/"
        },
        "id": "8WmmhmSe31_p",
        "outputId": "8a7ddf28-8c52-43d2-d92d-a51c4a8563c4"
      },
      "execution_count": 9,
      "outputs": [
        {
          "output_type": "execute_result",
          "data": {
            "text/plain": [
              "(60000, 28, 28, 1)"
            ]
          },
          "metadata": {},
          "execution_count": 9
        }
      ]
    },
    {
      "cell_type": "markdown",
      "source": [
        "## **Normalize data**\n",
        "\n",
        "1. we must normalize our data as it is always required in neural network models\n",
        "2. we can achieve this by dividing the RGB codes with 255\n",
        "3. normalize X_train and X_test\n",
        "4. make sure that the values are float so that we can get decimal points after division"
      ],
      "metadata": {
        "id": "mol6K5TN37Ux"
      }
    },
    {
      "cell_type": "code",
      "source": [
        "X_train = X_train.astype('float32')\n",
        "X_test = X_test.astype('float32')\n",
        "\n",
        "X_train /= 255\n",
        "X_test /= 255"
      ],
      "metadata": {
        "id": "dqnY6XHf4OLK"
      },
      "execution_count": 10,
      "outputs": []
    },
    {
      "cell_type": "code",
      "source": [
        "200/255"
      ],
      "metadata": {
        "colab": {
          "base_uri": "https://localhost:8080/"
        },
        "id": "yfn9vshw4csz",
        "outputId": "43991a1d-aba6-47d4-f4e6-04fd554caedd"
      },
      "execution_count": 11,
      "outputs": [
        {
          "output_type": "execute_result",
          "data": {
            "text/plain": [
              "0.7843137254901961"
            ]
          },
          "metadata": {},
          "execution_count": 11
        }
      ]
    },
    {
      "cell_type": "markdown",
      "source": [
        "## **Print shape of data and number of images**\n",
        "\n",
        "1. print shape of X_train\n",
        "2. print number of images in X_train\n",
        "3. print number of images in X_test"
      ],
      "metadata": {
        "id": "96ToAd314hiS"
      }
    },
    {
      "cell_type": "code",
      "source": [
        "print('X_train shape: ', X_train.shape)\n",
        "print('Images in X_train: ', X_train.shape[0])\n",
        "print('Images in X_train: ', X_test.shape[0])\n",
        "print('Max value in X_train: ', X_train.max())\n",
        "print('Min value in X_train: ', X_train.min())"
      ],
      "metadata": {
        "colab": {
          "base_uri": "https://localhost:8080/"
        },
        "id": "p7u2Q9C04gxR",
        "outputId": "9b769620-2845-487a-b0c5-eb6d66c57559"
      },
      "execution_count": 12,
      "outputs": [
        {
          "output_type": "stream",
          "name": "stdout",
          "text": [
            "X_train shape:  (60000, 28, 28, 1)\n",
            "Images in X_train:  60000\n",
            "Images in X_train:  10000\n",
            "Max value in X_train:  1.0\n",
            "Min value in X_train:  0.0\n"
          ]
        }
      ]
    },
    {
      "cell_type": "markdown",
      "source": [
        "## **One-hot encode the class vector**\n",
        "\n",
        "1. convert class vectors(integers) to binary class matrix\n",
        "2. convert y_train and y_test\n",
        "3. number of classes: 10\n",
        "4. we are doing this to use categorical_crossentropy as loss"
      ],
      "metadata": {
        "id": "acIRNso65P2j"
      }
    },
    {
      "cell_type": "code",
      "source": [
        "from tensorflow.keras.utils import to_categorical\n",
        "\n",
        "y_train = to_categorical(y_train,  num_classes=10)\n",
        "y_test = to_categorical(y_test, num_classes=10)\n",
        "\n",
        "print('Shape of y_train: ', y_train.shape)\n",
        "print('One value of y_train',y_train[0])"
      ],
      "metadata": {
        "colab": {
          "base_uri": "https://localhost:8080/"
        },
        "id": "umZJPQsl5PYM",
        "outputId": "9e57b672-a5d3-4aab-81d4-0e1be5feff08"
      },
      "execution_count": 13,
      "outputs": [
        {
          "output_type": "stream",
          "name": "stdout",
          "text": [
            "Shape of y_train:  (60000, 10)\n",
            "One value of y_train [0. 0. 0. 0. 0. 1. 0. 0. 0. 0.]\n"
          ]
        }
      ]
    },
    {
      "cell_type": "markdown",
      "source": [
        "## **Building Convolutional Neural Network: ConvNet/CNN**\n",
        "\n",
        "### Initialize a sequential  model again\n",
        "\n",
        "- define a sequential model\n",
        "- add 2 convolutional layers\n",
        "  - no. of filters: 32\n",
        "  - kernel size: 3x3\n",
        "  - activation: 'relu'\n",
        "  - input shape: (28,28,1) for first layer\n",
        "- flatten the data\n",
        "  - add Flatten layer\n",
        "  - flatten layers flatten 2D arrays to 1D arrays before building the fully conncected layers\n",
        "- add 2 dense layers\n",
        "  - number of neurons in first layer: 128\n",
        "  - number of neurons in last layer: number of classes\n",
        "  - activation function in first layer: relu\n",
        "  - activation function in last layer: softmax\n",
        "  - we may experiment with any number of neurons for the first Dense layer; however the final Dense layer must have neurons equal to the number of output classes"
      ],
      "metadata": {
        "id": "0L2wfSw06Doj"
      }
    },
    {
      "cell_type": "code",
      "source": [
        "from tensorflow.keras.layers import Conv2D\n",
        "\n",
        "model = Sequential()\n",
        "model.add(Conv2D(filters=32, kernel_size=3, activation='relu', input_shape=(28, 28, 1)))\n",
        "model.add(Conv2D(filters=32, kernel_size=3, activation='relu'))\n",
        "model.add(Flatten())\n",
        "model.add(Dense(128, activation='relu'))\n",
        "model.add(Dense(10, activation='softmax'))"
      ],
      "metadata": {
        "id": "ojWv4kds6DOT"
      },
      "execution_count": 14,
      "outputs": []
    },
    {
      "cell_type": "markdown",
      "source": [
        "## **Compile and fit the model**\n",
        "\n",
        "- let's compile our model\n",
        "  - loss: 'categorical_crossentropy'\n",
        "  - metrics: 'accuracy'\n",
        "  - optimizer: 'adam'\n",
        "- then next step will be to fit the model\n",
        "  - give train data - training features and labels\n",
        "  - batch size: 32\n",
        "  - epochs: 10\n",
        "  - give validation data - testing features and labels"
      ],
      "metadata": {
        "id": "h4mfDhWa7p51"
      }
    },
    {
      "cell_type": "code",
      "source": [
        "# Compile the model\n",
        "model.compile(loss=\"categorical_crossentropy\", metrics=[\"accuracy\"], optimizer=\"adam\")\n",
        "\n",
        "# Fit the model\n",
        "H = model.fit( x=X_train, y=y_train, batch_size=32, epochs=10, validation_split = 0.3)"
      ],
      "metadata": {
        "colab": {
          "base_uri": "https://localhost:8080/"
        },
        "id": "N2aprqyN8EcE",
        "outputId": "99b06dfc-7aee-45b6-d8f8-385283389698"
      },
      "execution_count": 15,
      "outputs": [
        {
          "output_type": "stream",
          "name": "stdout",
          "text": [
            "Epoch 1/10\n",
            "1313/1313 [==============================] - 17s 6ms/step - loss: 0.1416 - accuracy: 0.9569 - val_loss: 0.0675 - val_accuracy: 0.9806\n",
            "Epoch 2/10\n",
            "1313/1313 [==============================] - 7s 5ms/step - loss: 0.0425 - accuracy: 0.9866 - val_loss: 0.0730 - val_accuracy: 0.9802\n",
            "Epoch 3/10\n",
            "1313/1313 [==============================] - 7s 6ms/step - loss: 0.0249 - accuracy: 0.9928 - val_loss: 0.0775 - val_accuracy: 0.9790\n",
            "Epoch 4/10\n",
            "1313/1313 [==============================] - 8s 6ms/step - loss: 0.0156 - accuracy: 0.9950 - val_loss: 0.0847 - val_accuracy: 0.9801\n",
            "Epoch 5/10\n",
            "1313/1313 [==============================] - 7s 5ms/step - loss: 0.0123 - accuracy: 0.9954 - val_loss: 0.0770 - val_accuracy: 0.9811\n",
            "Epoch 6/10\n",
            "1313/1313 [==============================] - 7s 5ms/step - loss: 0.0101 - accuracy: 0.9965 - val_loss: 0.0701 - val_accuracy: 0.9858\n",
            "Epoch 7/10\n",
            "1313/1313 [==============================] - 8s 6ms/step - loss: 0.0057 - accuracy: 0.9982 - val_loss: 0.0683 - val_accuracy: 0.9842\n",
            "Epoch 8/10\n",
            "1313/1313 [==============================] - 8s 6ms/step - loss: 0.0074 - accuracy: 0.9976 - val_loss: 0.0728 - val_accuracy: 0.9850\n",
            "Epoch 9/10\n",
            "1313/1313 [==============================] - 7s 5ms/step - loss: 0.0052 - accuracy: 0.9981 - val_loss: 0.0893 - val_accuracy: 0.9831\n",
            "Epoch 10/10\n",
            "1313/1313 [==============================] - 7s 5ms/step - loss: 0.0047 - accuracy: 0.9984 - val_loss: 0.0806 - val_accuracy: 0.9852\n"
          ]
        }
      ]
    },
    {
      "cell_type": "markdown",
      "source": [
        "## **Final loss and accuracy**"
      ],
      "metadata": {
        "id": "p5wPUsvC_c-H"
      }
    },
    {
      "cell_type": "code",
      "source": [
        "loss, acc = model.evaluate(X_test, y_test)\n",
        "print('\\nTest accuracy: %.1f%%' % (100.0 * acc))"
      ],
      "metadata": {
        "colab": {
          "base_uri": "https://localhost:8080/"
        },
        "id": "waYF_Ncc_jFO",
        "outputId": "98dfded9-a9fe-4e32-9253-66b80f1963cf"
      },
      "execution_count": 16,
      "outputs": [
        {
          "output_type": "stream",
          "name": "stdout",
          "text": [
            "313/313 [==============================] - 1s 3ms/step - loss: 0.0572 - accuracy: 0.9873\n",
            "\n",
            "Test accuracy: 98.7%\n"
          ]
        }
      ]
    },
    {
      "cell_type": "code",
      "source": [
        "loss, acc = model.evaluate(X_train,y_train)\n",
        "print('\\nTraining accuracy: %.1f%%' % (100.0*acc))"
      ],
      "metadata": {
        "colab": {
          "base_uri": "https://localhost:8080/"
        },
        "id": "ddKD5ytw_w6a",
        "outputId": "4639e4ef-fe9c-43b1-d8f0-56299d3eff4a"
      },
      "execution_count": 17,
      "outputs": [
        {
          "output_type": "stream",
          "name": "stdout",
          "text": [
            "1875/1875 [==============================] - 6s 3ms/step - loss: 0.0273 - accuracy: 0.9947\n",
            "\n",
            "Training accuracy: 99.5%\n"
          ]
        }
      ]
    },
    {
      "cell_type": "code",
      "source": [
        "import matplotlib.pyplot as plt\n",
        "\n",
        "epochs = np.arange(0, len(H.history['loss']))\n",
        "plt.figure(figsize=(10,8))\n",
        "plt.style.use('ggplot')\n",
        "\n",
        "#plot training and validation loss\n",
        "plt.style.use('ggplot')\n",
        "plt.plot(epochs, H.history['loss'], label='train_loss')\n",
        "plt.plot(epochs, H.history['val_loss'], label='val_loss')\n",
        "plt.title('Training vs Validation Loss')\n",
        "plt.xlabel('Epoch #')\n",
        "plt.ylabel('Loss')\n",
        "plt.legend()"
      ],
      "metadata": {
        "colab": {
          "base_uri": "https://localhost:8080/",
          "height": 535
        },
        "id": "MBiNtLNsAF2O",
        "outputId": "85302520-cf8d-4496-fb9e-e962ee6168c2"
      },
      "execution_count": 18,
      "outputs": [
        {
          "output_type": "execute_result",
          "data": {
            "text/plain": [
              "<matplotlib.legend.Legend at 0x7f8a7dfbca00>"
            ]
          },
          "metadata": {},
          "execution_count": 18
        },
        {
          "output_type": "display_data",
          "data": {
            "text/plain": [
              "<Figure size 720x576 with 1 Axes>"
            ],
            "image/png": "[encoded data removed]"
          },
          "metadata": {
            "needs_background": "light"
          }
        }
      ]
    },
    {
      "cell_type": "markdown",
      "source": [
        "## **Vanilla CNN + Pooling + Dropout + Regularization**"
      ],
      "metadata": {
        "id": "X67sYN2YA2UY"
      }
    },
    {
      "cell_type": "markdown",
      "source": [
        "## Initialize a sequential model again\n",
        "\n",
        "- define a sequential model\n",
        "- add 2 convolutional layers\n",
        "  - no. of filters: 32\n",
        "  - kernel size: 3x3\n",
        "  - activation: 'relu'\n",
        "  - input shape: (28,28,1) for first layer\n",
        "- add a max pooling layer of size 2x2\n",
        "- add a dropout layer\n",
        "  - dropout layers fight with the overfitting by disregarding some of the neurons while training\n",
        "  - use dropout rate of 0.2\n",
        "- flatten the data\n",
        "  - add Flatten layer\n",
        "  - flatten layers flatten 2D arrays to 1D array before building the fully connected layers\n",
        "- add 2 dense layers\n",
        "  - number of neurons in the first layer: 128\n",
        "  - number of neurons in the last layer: number of classes\n",
        "  - activation function in the first layer: relu\n",
        "  - activaton function in the last layer: softmax\n",
        "  - we may experiment with any number for the first layer; however the final Dense layer must have neurons equal to the number of output classes"
      ],
      "metadata": {
        "id": "_GzKvIYBBAHH"
      }
    },
    {
      "cell_type": "code",
      "source": [
        "from tensorflow.keras.models import Sequential\n",
        "from tensorflow.keras.layers import Conv2D, Dropout, MaxPooling2D\n",
        "\n",
        "#initialize the model\n",
        "model=Sequential()\n",
        "\n",
        "#Add a Convolutional Layer with 32 filters of size 3x3 and activation function as 'relu'\n",
        "model.add(Conv2D(filters=32, kernel_size=3, activation='relu', input_shape=(28, 28, 1)))\n",
        "\n",
        "#Add a Convolutional Layer with 32 filters of size 3x3 and activation function as 'relu'\n",
        "model.add(Conv2D(filters=32, kernel_size=3, activation='relu'))\n",
        "\n",
        "#Add a Maxpooling Layer of size 2x2\n",
        "model.add(MaxPooling2D(pool_size=(2,2)))\n",
        "\n",
        "#Apply Dropout with 0.2 probability\n",
        "model.add(Dropout(rate=0.2))\n",
        "\n",
        "#Flatten the layer\n",
        "model.add(Flatten())\n",
        "\n",
        "#Add Fully Connected layer with 128 units and activation function as 'relu'\n",
        "model.add(Dense(128, activation='relu'))\n",
        "#model.add(Dropout(rate=0.2))\n",
        "\n",
        "#Add Fully connected Layer with 10 units and activation function as 'softmax'\n",
        "model.add(Dense(10, activation='softmax'))"
      ],
      "metadata": {
        "id": "M7B10fIzA-lF"
      },
      "execution_count": 19,
      "outputs": []
    },
    {
      "cell_type": "markdown",
      "source": [
        "## **Compile and fit the model**\n",
        "\n",
        "let's compile our model\n",
        "  - loss: 'catgorical_crossentropy'\n",
        "  - metrics: 'accuracy'\n",
        "  - optimizer: 'adam'\n",
        "\n",
        "use EarlyStopping\n",
        "\n",
        "then next step will be to fit the model\n",
        "  - give train data - training features and labels\n",
        "  - batch size: 32\n",
        "  - epochs: 10\n",
        "  - give validation data - testing features and labels"
      ],
      "metadata": {
        "id": "ZtGR_lvoEItq"
      }
    },
    {
      "cell_type": "code",
      "source": [
        "# Compile the model\n",
        "model.compile(loss=\"categorical_crossentropy\", metrics=[\"accuracy\"], optimizer=\"adam\")\n",
        "\n",
        "# Use earlystopping\n",
        "callback = tensorflow.keras.callbacks.EarlyStopping(monitor='val_accuracy', patience=2, min_delta=0.01)\n",
        "\n",
        "# Fit the model\n",
        "model.fit(x=X_train, y=y_train, batch_size=32, epochs=10, validation_data=(X_test, y_test), callbacks=[callback])"
      ],
      "metadata": {
        "colab": {
          "base_uri": "https://localhost:8080/"
        },
        "id": "Mpr_5Pp0DrYB",
        "outputId": "29fc3b01-695a-4828-a4b0-f4d9c4b88055"
      },
      "execution_count": 20,
      "outputs": [
        {
          "output_type": "stream",
          "name": "stdout",
          "text": [
            "Epoch 1/10\n",
            "1875/1875 [==============================] - 8s 4ms/step - loss: 0.1248 - accuracy: 0.9624 - val_loss: 0.0465 - val_accuracy: 0.9850\n",
            "Epoch 2/10\n",
            "1875/1875 [==============================] - 8s 4ms/step - loss: 0.0432 - accuracy: 0.9862 - val_loss: 0.0436 - val_accuracy: 0.9863\n",
            "Epoch 3/10\n",
            "1875/1875 [==============================] - 8s 4ms/step - loss: 0.0290 - accuracy: 0.9911 - val_loss: 0.0326 - val_accuracy: 0.9893\n"
          ]
        },
        {
          "output_type": "execute_result",
          "data": {
            "text/plain": [
              "<keras.callbacks.History at 0x7f8af8cc56a0>"
            ]
          },
          "metadata": {},
          "execution_count": 20
        }
      ]
    },
    {
      "cell_type": "code",
      "source": [
        "X_train.shape"
      ],
      "metadata": {
        "colab": {
          "base_uri": "https://localhost:8080/"
        },
        "id": "XkTieKjrDW_R",
        "outputId": "0aa37842-259a-468c-ad89-2b3cbf981991"
      },
      "execution_count": 21,
      "outputs": [
        {
          "output_type": "execute_result",
          "data": {
            "text/plain": [
              "(60000, 28, 28, 1)"
            ]
          },
          "metadata": {},
          "execution_count": 21
        }
      ]
    },
    {
      "cell_type": "code",
      "source": [
        "X_test.shape"
      ],
      "metadata": {
        "colab": {
          "base_uri": "https://localhost:8080/"
        },
        "id": "1u5Kr7PpXcmb",
        "outputId": "7869d838-c3bd-4c95-a0ad-8f9462ff8ec6"
      },
      "execution_count": 22,
      "outputs": [
        {
          "output_type": "execute_result",
          "data": {
            "text/plain": [
              "(10000, 28, 28, 1)"
            ]
          },
          "metadata": {},
          "execution_count": 22
        }
      ]
    },
    {
      "cell_type": "code",
      "source": [
        "y_train.shape"
      ],
      "metadata": {
        "colab": {
          "base_uri": "https://localhost:8080/"
        },
        "id": "uCa1oPVvXfdK",
        "outputId": "9516699f-de0a-4b64-807d-4f21e92103b1"
      },
      "execution_count": 23,
      "outputs": [
        {
          "output_type": "execute_result",
          "data": {
            "text/plain": [
              "(60000, 10)"
            ]
          },
          "metadata": {},
          "execution_count": 23
        }
      ]
    },
    {
      "cell_type": "code",
      "source": [
        "y_test.shape"
      ],
      "metadata": {
        "colab": {
          "base_uri": "https://localhost:8080/"
        },
        "id": "UyyW9W94XhUj",
        "outputId": "799f4dd2-f98c-4495-cb51-cc82ae242c21"
      },
      "execution_count": 24,
      "outputs": [
        {
          "output_type": "execute_result",
          "data": {
            "text/plain": [
              "(10000, 10)"
            ]
          },
          "metadata": {},
          "execution_count": 24
        }
      ]
    },
    {
      "cell_type": "markdown",
      "source": [
        "## **Final loss and accuracy**"
      ],
      "metadata": {
        "id": "UU353WuW8_fB"
      }
    },
    {
      "cell_type": "code",
      "source": [
        "loss, acc = model.evaluate(X_test, y_test)\n",
        "print('\\nTest accuracy: %.1f%%' % (100.0*acc))"
      ],
      "metadata": {
        "colab": {
          "base_uri": "https://localhost:8080/"
        },
        "id": "NYQMYR7681ED",
        "outputId": "14450e5a-9d8e-4594-f560-f9c12c4d62e1"
      },
      "execution_count": 34,
      "outputs": [
        {
          "output_type": "stream",
          "name": "stdout",
          "text": [
            "313/313 [==============================] - 1s 3ms/step - loss: 0.0326 - accuracy: 0.9893\n",
            "\n",
            "Test accuracy: 98.9%\n"
          ]
        }
      ]
    },
    {
      "cell_type": "code",
      "source": [
        "loss, acc = model.evaluate(X_train, y_train)\n",
        "print('\\nTest accuracy: %.1f%%' % (100.0*acc))"
      ],
      "metadata": {
        "colab": {
          "base_uri": "https://localhost:8080/"
        },
        "id": "kiWNVH7kAdlF",
        "outputId": "18edafdd-20fa-48d3-b099-587656680d5e"
      },
      "execution_count": 33,
      "outputs": [
        {
          "output_type": "stream",
          "name": "stdout",
          "text": [
            "1875/1875 [==============================] - 6s 3ms/step - loss: 0.0151 - accuracy: 0.9952\n",
            "\n",
            "Test accuracy: 99.5%\n"
          ]
        }
      ]
    },
    {
      "cell_type": "code",
      "source": [
        "import matplotlib.pyplot as plt\n",
        "\n",
        "epochs = np.arange(0, len(H.history['loss']))\n",
        "plt.figure(figsize=(10,8))\n",
        "plt.style.use('ggplot')\n",
        "\n",
        "#plot training andvalidation loss\n",
        "plt.style.use('ggplot')\n",
        "plt.plot(epochs, H.history['loss'],label='train_loss')\n",
        "plt.plot(epochs, H.history['val_loss'],label='val_loss')\n",
        "plt.title('Training vs Validation Loss')\n",
        "plt.xlabel('Epoch #')\n",
        "plt.ylabel('Loss')\n",
        "plt.legend()"
      ],
      "metadata": {
        "colab": {
          "base_uri": "https://localhost:8080/",
          "height": 535
        },
        "id": "oOgEEMKgAwSU",
        "outputId": "aab5bb63-e2a4-4697-f94b-6c6a3797c878"
      },
      "execution_count": 35,
      "outputs": [
        {
          "output_type": "execute_result",
          "data": {
            "text/plain": [
              "<matplotlib.legend.Legend at 0x7f8a6f5b29a0>"
            ]
          },
          "metadata": {},
          "execution_count": 35
        },
        {
          "output_type": "display_data",
          "data": {
            "text/plain": [
              "<Figure size 720x576 with 1 Axes>"
            ],
            "image/png": "[encoded data removed]"
          },
          "metadata": {}
        }
      ]
    },
    {
      "cell_type": "code",
      "source": [
        "import matplotlib.pyplot as plt\n",
        "%matplotlib inline\n",
        "plt.imshow(X_test[100].reshape(28,28),cmap='gray')\n",
        "y_pred = model.predict(X_test[100].reshape(1,28,28,1))\n",
        "print('Predicted labels: ',y_pred.argmax())\n",
        "print('Softmax Outputs: ',y_pred)\n",
        "print(y_pred.sum())"
      ],
      "metadata": {
        "colab": {
          "base_uri": "https://localhost:8080/",
          "height": 354
        },
        "id": "I6DA0QrY-dko",
        "outputId": "650a70c3-1878-430d-f8bd-0cbfc45a77b7"
      },
      "execution_count": 27,
      "outputs": [
        {
          "output_type": "stream",
          "name": "stdout",
          "text": [
            "1/1 [==============================] - 0s 191ms/step\n",
            "Predicted labels:  6\n",
            "Softmax Outputs:  [[1.2590796e-07 1.3612837e-10 2.0937723e-08 4.0784176e-13 6.7265478e-09\n",
            "  6.5466374e-08 9.9999976e-01 1.1942927e-09 2.5555762e-08 1.2070518e-11]]\n",
            "0.99999994\n"
          ]
        },
        {
          "output_type": "display_data",
          "data": {
            "text/plain": [
              "<Figure size 432x288 with 1 Axes>"
            ],
            "image/png": "[encoded data removed]"
          },
          "metadata": {
            "needs_background": "light"
          }
        }
      ]
    },
    {
      "cell_type": "markdown",
      "source": [
        "![download.png](data:image/png;base64,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)"
      ],
      "metadata": {
        "id": "MuOj92Q7_Kd-"
      }
    },
    {
      "cell_type": "code",
      "source": [],
      "metadata": {
        "id": "tJyYkbR7-i-Z"
      },
      "execution_count": null,
      "outputs": []
    }
  ]
}